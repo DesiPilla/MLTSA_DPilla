{
 "cells": [
  {
   "cell_type": "code",
   "execution_count": 203,
   "metadata": {
    "ExecuteTime": {
     "end_time": "2020-02-10T11:58:42.855729Z",
     "start_time": "2020-02-10T11:58:42.850678Z"
    }
   },
   "outputs": [
    {
     "name": "stdout",
     "output_type": "stream",
     "text": [
      "Populating the interactive namespace from numpy and matplotlib\n"
     ]
    }
   ],
   "source": [
    "import pandas as pd\n",
    "import pylab as pl\n",
    "import matplotlib as mpl\n",
    "%pylab inline"
   ]
  },
  {
   "cell_type": "markdown",
   "metadata": {},
   "source": []
  },
  {
   "cell_type": "code",
   "execution_count": 8,
   "metadata": {
    "ExecuteTime": {
     "end_time": "2020-02-09T20:24:46.995527Z",
     "start_time": "2020-02-09T20:24:46.988761Z"
    }
   },
   "outputs": [],
   "source": [
    "grb050525A = pd.read_csv(\"grb050525A.dat\", sep=\" \", header=None)"
   ]
  },
  {
   "cell_type": "code",
   "execution_count": 9,
   "metadata": {
    "ExecuteTime": {
     "end_time": "2020-02-09T20:24:47.574674Z",
     "start_time": "2020-02-09T20:24:47.350208Z"
    }
   },
   "outputs": [
    {
     "data": {
      "text/plain": [
       "<matplotlib.axes._subplots.AxesSubplot at 0x1223bfb38>"
      ]
     },
     "execution_count": 9,
     "metadata": {},
     "output_type": "execute_result"
    },
    {
     "data": {
      "image/png": "[encoded data removed]",
      "text/plain": [
       "<Figure size 432x288 with 1 Axes>"
      ]
     },
     "metadata": {
      "needs_background": "light"
     },
     "output_type": "display_data"
    }
   ],
   "source": [
    "grb050525A.plot(x=0)"
   ]
  },
  {
   "cell_type": "code",
   "execution_count": 10,
   "metadata": {
    "ExecuteTime": {
     "end_time": "2020-02-09T20:25:07.435950Z",
     "start_time": "2020-02-09T20:25:07.417778Z"
    }
   },
   "outputs": [
    {
     "data": {
      "text/html": [
       "<div>\n",
       "<style scoped>\n",
       "    .dataframe tbody tr th:only-of-type {\n",
       "        vertical-align: middle;\n",
       "    }\n",
       "\n",
       "    .dataframe tbody tr th {\n",
       "        vertical-align: top;\n",
       "    }\n",
       "\n",
       "    .dataframe thead th {\n",
       "        text-align: right;\n",
       "    }\n",
       "</style>\n",
       "<table border=\"1\" class=\"dataframe\">\n",
       "  <thead>\n",
       "    <tr style=\"text-align: right;\">\n",
       "      <th></th>\n",
       "      <th>0</th>\n",
       "      <th>1</th>\n",
       "      <th>2</th>\n",
       "      <th>3</th>\n",
       "      <th>4</th>\n",
       "      <th>5</th>\n",
       "      <th>6</th>\n",
       "      <th>7</th>\n",
       "      <th>8</th>\n",
       "      <th>9</th>\n",
       "      <th>10</th>\n",
       "    </tr>\n",
       "  </thead>\n",
       "  <tbody>\n",
       "    <tr>\n",
       "      <th>0</th>\n",
       "      <td>-298.556</td>\n",
       "      <td>0.005023</td>\n",
       "      <td>0.008178</td>\n",
       "      <td>-0.001165</td>\n",
       "      <td>0.008340</td>\n",
       "      <td>0.009040</td>\n",
       "      <td>0.008142</td>\n",
       "      <td>0.013983</td>\n",
       "      <td>0.008230</td>\n",
       "      <td>0.026882</td>\n",
       "      <td>0.016446</td>\n",
       "    </tr>\n",
       "    <tr>\n",
       "      <th>1</th>\n",
       "      <td>-297.556</td>\n",
       "      <td>-0.005947</td>\n",
       "      <td>0.008011</td>\n",
       "      <td>0.008888</td>\n",
       "      <td>0.008477</td>\n",
       "      <td>0.014794</td>\n",
       "      <td>0.008025</td>\n",
       "      <td>0.010334</td>\n",
       "      <td>0.008280</td>\n",
       "      <td>0.028069</td>\n",
       "      <td>0.016401</td>\n",
       "    </tr>\n",
       "    <tr>\n",
       "      <th>2</th>\n",
       "      <td>-296.556</td>\n",
       "      <td>-0.005508</td>\n",
       "      <td>0.007847</td>\n",
       "      <td>0.001759</td>\n",
       "      <td>0.008327</td>\n",
       "      <td>-0.004056</td>\n",
       "      <td>0.007848</td>\n",
       "      <td>0.000811</td>\n",
       "      <td>0.008458</td>\n",
       "      <td>-0.006994</td>\n",
       "      <td>0.016249</td>\n",
       "    </tr>\n",
       "    <tr>\n",
       "      <th>3</th>\n",
       "      <td>-295.556</td>\n",
       "      <td>-0.001119</td>\n",
       "      <td>0.008253</td>\n",
       "      <td>-0.006670</td>\n",
       "      <td>0.008211</td>\n",
       "      <td>0.004374</td>\n",
       "      <td>0.008147</td>\n",
       "      <td>-0.010784</td>\n",
       "      <td>0.008375</td>\n",
       "      <td>-0.014198</td>\n",
       "      <td>0.016494</td>\n",
       "    </tr>\n",
       "    <tr>\n",
       "      <th>4</th>\n",
       "      <td>-294.556</td>\n",
       "      <td>0.006988</td>\n",
       "      <td>0.007975</td>\n",
       "      <td>-0.004426</td>\n",
       "      <td>0.008203</td>\n",
       "      <td>0.008548</td>\n",
       "      <td>0.007683</td>\n",
       "      <td>0.009081</td>\n",
       "      <td>0.008370</td>\n",
       "      <td>0.020191</td>\n",
       "      <td>0.016124</td>\n",
       "    </tr>\n",
       "  </tbody>\n",
       "</table>\n",
       "</div>"
      ],
      "text/plain": [
       "        0         1         2         3         4         5         6   \\\n",
       "0 -298.556  0.005023  0.008178 -0.001165  0.008340  0.009040  0.008142   \n",
       "1 -297.556 -0.005947  0.008011  0.008888  0.008477  0.014794  0.008025   \n",
       "2 -296.556 -0.005508  0.007847  0.001759  0.008327 -0.004056  0.007848   \n",
       "3 -295.556 -0.001119  0.008253 -0.006670  0.008211  0.004374  0.008147   \n",
       "4 -294.556  0.006988  0.007975 -0.004426  0.008203  0.008548  0.007683   \n",
       "\n",
       "         7         8         9         10  \n",
       "0  0.013983  0.008230  0.026882  0.016446  \n",
       "1  0.010334  0.008280  0.028069  0.016401  \n",
       "2  0.000811  0.008458 -0.006994  0.016249  \n",
       "3 -0.010784  0.008375 -0.014198  0.016494  \n",
       "4  0.009081  0.008370  0.020191  0.016124  "
      ]
     },
     "execution_count": 10,
     "metadata": {},
     "output_type": "execute_result"
    }
   ],
   "source": [
    "grb050525A.head()"
   ]
  },
  {
   "cell_type": "code",
   "execution_count": 90,
   "metadata": {
    "ExecuteTime": {
     "end_time": "2020-02-10T10:57:37.320833Z",
     "start_time": "2020-02-10T10:57:37.281164Z"
    }
   },
   "outputs": [],
   "source": [
    "grb050525A = pd.read_csv(\"grb050525A_all.dat\", sep=\" \", header=None, names=[\n",
    "    \"filter\", \"time\", \"exposure\", \"mag\", \"magerr\", \"flux\", \"fluxerr\", \"None\"], index_col=None)"
   ]
  },
  {
   "cell_type": "code",
   "execution_count": 91,
   "metadata": {
    "ExecuteTime": {
     "end_time": "2020-02-10T10:57:37.845490Z",
     "start_time": "2020-02-10T10:57:37.833287Z"
    }
   },
   "outputs": [
    {
     "data": {
      "text/html": [
       "<div>\n",
       "<style scoped>\n",
       "    .dataframe tbody tr th:only-of-type {\n",
       "        vertical-align: middle;\n",
       "    }\n",
       "\n",
       "    .dataframe tbody tr th {\n",
       "        vertical-align: top;\n",
       "    }\n",
       "\n",
       "    .dataframe thead th {\n",
       "        text-align: right;\n",
       "    }\n",
       "</style>\n",
       "<table border=\"1\" class=\"dataframe\">\n",
       "  <thead>\n",
       "    <tr style=\"text-align: right;\">\n",
       "      <th></th>\n",
       "      <th>time</th>\n",
       "      <th>mag</th>\n",
       "      <th>filter</th>\n",
       "    </tr>\n",
       "  </thead>\n",
       "  <tbody>\n",
       "    <tr>\n",
       "      <th>60</th>\n",
       "      <td>215</td>\n",
       "      <td>13.70</td>\n",
       "      <td>U</td>\n",
       "    </tr>\n",
       "    <tr>\n",
       "      <th>61</th>\n",
       "      <td>299</td>\n",
       "      <td>14.08</td>\n",
       "      <td>U</td>\n",
       "    </tr>\n",
       "    <tr>\n",
       "      <th>62</th>\n",
       "      <td>419</td>\n",
       "      <td>14.47</td>\n",
       "      <td>U</td>\n",
       "    </tr>\n",
       "    <tr>\n",
       "      <th>63</th>\n",
       "      <td>890</td>\n",
       "      <td>15.29</td>\n",
       "      <td>U</td>\n",
       "    </tr>\n",
       "    <tr>\n",
       "      <th>64</th>\n",
       "      <td>975</td>\n",
       "      <td>15.32</td>\n",
       "      <td>U</td>\n",
       "    </tr>\n",
       "    <tr>\n",
       "      <th>65</th>\n",
       "      <td>12019</td>\n",
       "      <td>17.66</td>\n",
       "      <td>U</td>\n",
       "    </tr>\n",
       "    <tr>\n",
       "      <th>66</th>\n",
       "      <td>468</td>\n",
       "      <td>14.71</td>\n",
       "      <td>U</td>\n",
       "    </tr>\n",
       "    <tr>\n",
       "      <th>67</th>\n",
       "      <td>552</td>\n",
       "      <td>14.97</td>\n",
       "      <td>U</td>\n",
       "    </tr>\n",
       "    <tr>\n",
       "      <th>68</th>\n",
       "      <td>637</td>\n",
       "      <td>15.01</td>\n",
       "      <td>U</td>\n",
       "    </tr>\n",
       "    <tr>\n",
       "      <th>69</th>\n",
       "      <td>721</td>\n",
       "      <td>15.14</td>\n",
       "      <td>U</td>\n",
       "    </tr>\n",
       "    <tr>\n",
       "      <th>70</th>\n",
       "      <td>805</td>\n",
       "      <td>15.46</td>\n",
       "      <td>U</td>\n",
       "    </tr>\n",
       "    <tr>\n",
       "      <th>71</th>\n",
       "      <td>28664</td>\n",
       "      <td>18.85</td>\n",
       "      <td>U</td>\n",
       "    </tr>\n",
       "    <tr>\n",
       "      <th>72</th>\n",
       "      <td>29380</td>\n",
       "      <td>18.79</td>\n",
       "      <td>U</td>\n",
       "    </tr>\n",
       "    <tr>\n",
       "      <th>73</th>\n",
       "      <td>41040</td>\n",
       "      <td>19.99</td>\n",
       "      <td>U</td>\n",
       "    </tr>\n",
       "    <tr>\n",
       "      <th>74</th>\n",
       "      <td>52994</td>\n",
       "      <td>&gt;</td>\n",
       "      <td>U</td>\n",
       "    </tr>\n",
       "    <tr>\n",
       "      <th>75</th>\n",
       "      <td>128928</td>\n",
       "      <td>&gt;</td>\n",
       "      <td>U</td>\n",
       "    </tr>\n",
       "    <tr>\n",
       "      <th>76</th>\n",
       "      <td>202</td>\n",
       "      <td>13.61</td>\n",
       "      <td>W1</td>\n",
       "    </tr>\n",
       "    <tr>\n",
       "      <th>77</th>\n",
       "      <td>286</td>\n",
       "      <td>14.18</td>\n",
       "      <td>W1</td>\n",
       "    </tr>\n",
       "    <tr>\n",
       "      <th>78</th>\n",
       "      <td>370</td>\n",
       "      <td>14.77</td>\n",
       "      <td>W1</td>\n",
       "    </tr>\n",
       "    <tr>\n",
       "      <th>79</th>\n",
       "      <td>455</td>\n",
       "      <td>15.10</td>\n",
       "      <td>W1</td>\n",
       "    </tr>\n",
       "    <tr>\n",
       "      <th>80</th>\n",
       "      <td>539</td>\n",
       "      <td>15.22</td>\n",
       "      <td>W1</td>\n",
       "    </tr>\n",
       "    <tr>\n",
       "      <th>81</th>\n",
       "      <td>624</td>\n",
       "      <td>15.26</td>\n",
       "      <td>W1</td>\n",
       "    </tr>\n",
       "    <tr>\n",
       "      <th>82</th>\n",
       "      <td>708</td>\n",
       "      <td>15.22</td>\n",
       "      <td>W1</td>\n",
       "    </tr>\n",
       "    <tr>\n",
       "      <th>83</th>\n",
       "      <td>792</td>\n",
       "      <td>15.88</td>\n",
       "      <td>W1</td>\n",
       "    </tr>\n",
       "    <tr>\n",
       "      <th>84</th>\n",
       "      <td>877</td>\n",
       "      <td>16.15</td>\n",
       "      <td>W1</td>\n",
       "    </tr>\n",
       "    <tr>\n",
       "      <th>85</th>\n",
       "      <td>961</td>\n",
       "      <td>15.76</td>\n",
       "      <td>W1</td>\n",
       "    </tr>\n",
       "    <tr>\n",
       "      <th>86</th>\n",
       "      <td>6761</td>\n",
       "      <td>17.33</td>\n",
       "      <td>W1</td>\n",
       "    </tr>\n",
       "    <tr>\n",
       "      <th>87</th>\n",
       "      <td>28111</td>\n",
       "      <td>19.49</td>\n",
       "      <td>W1</td>\n",
       "    </tr>\n",
       "    <tr>\n",
       "      <th>88</th>\n",
       "      <td>40585</td>\n",
       "      <td>20.33</td>\n",
       "      <td>W1</td>\n",
       "    </tr>\n",
       "    <tr>\n",
       "      <th>89</th>\n",
       "      <td>52100</td>\n",
       "      <td>&gt;</td>\n",
       "      <td>W1</td>\n",
       "    </tr>\n",
       "  </tbody>\n",
       "</table>\n",
       "</div>"
      ],
      "text/plain": [
       "      time    mag filter\n",
       "60     215  13.70      U\n",
       "61     299  14.08      U\n",
       "62     419  14.47      U\n",
       "63     890  15.29      U\n",
       "64     975  15.32      U\n",
       "65   12019  17.66      U\n",
       "66     468  14.71      U\n",
       "67     552  14.97      U\n",
       "68     637  15.01      U\n",
       "69     721  15.14      U\n",
       "70     805  15.46      U\n",
       "71   28664  18.85      U\n",
       "72   29380  18.79      U\n",
       "73   41040  19.99      U\n",
       "74   52994      >      U\n",
       "75  128928      >      U\n",
       "76     202  13.61     W1\n",
       "77     286  14.18     W1\n",
       "78     370  14.77     W1\n",
       "79     455  15.10     W1\n",
       "80     539  15.22     W1\n",
       "81     624  15.26     W1\n",
       "82     708  15.22     W1\n",
       "83     792  15.88     W1\n",
       "84     877  16.15     W1\n",
       "85     961  15.76     W1\n",
       "86    6761  17.33     W1\n",
       "87   28111  19.49     W1\n",
       "88   40585  20.33     W1\n",
       "89   52100      >     W1"
      ]
     },
     "execution_count": 91,
     "metadata": {},
     "output_type": "execute_result"
    }
   ],
   "source": [
    "grb050525A[[\"time\",\"mag\", \"filter\"]][60:90]"
   ]
  },
  {
   "cell_type": "code",
   "execution_count": 141,
   "metadata": {
    "ExecuteTime": {
     "end_time": "2020-02-10T11:34:04.625225Z",
     "start_time": "2020-02-10T11:34:04.618383Z"
    }
   },
   "outputs": [],
   "source": [
    "\n"
   ]
  },
  {
   "cell_type": "code",
   "execution_count": 142,
   "metadata": {
    "ExecuteTime": {
     "end_time": "2020-02-10T11:34:05.005595Z",
     "start_time": "2020-02-10T11:34:05.002183Z"
    }
   },
   "outputs": [],
   "source": [
    "def linint(x, mag, earlier, later):\n",
    "    x0 = earlier.logtime.values[-1]\n",
    "    x1 = later.logtime.values[0]\n",
    "    y0 = earlier.mag.values[-1]\n",
    "    y1 = later.mag.values[0]\n",
    "    y = y0 + (x - x0) * (y1 - y0) / (x1 - x0) \n",
    "    magdiff = (y - mag)\n",
    "    return magdiff"
   ]
  },
  {
   "cell_type": "code",
   "execution_count": 208,
   "metadata": {
    "ExecuteTime": {
     "end_time": "2020-02-10T12:00:21.137408Z",
     "start_time": "2020-02-10T12:00:21.109438Z"
    }
   },
   "outputs": [
    {
     "ename": "ValueError",
     "evalue": "Invalid RGBA argument: 0.0",
     "output_type": "error",
     "traceback": [
      "\u001b[0;31m---------------------------------------------------------------------------\u001b[0m",
      "\u001b[0;31mKeyError\u001b[0m                                  Traceback (most recent call last)",
      "\u001b[0;32m~/anaconda3/lib/python3.7/site-packages/matplotlib/colors.py\u001b[0m in \u001b[0;36mto_rgba\u001b[0;34m(c, alpha)\u001b[0m\n\u001b[1;32m    173\u001b[0m     \u001b[0;32mtry\u001b[0m\u001b[0;34m:\u001b[0m\u001b[0;34m\u001b[0m\u001b[0;34m\u001b[0m\u001b[0m\n\u001b[0;32m--> 174\u001b[0;31m         \u001b[0mrgba\u001b[0m \u001b[0;34m=\u001b[0m \u001b[0m_colors_full_map\u001b[0m\u001b[0;34m.\u001b[0m\u001b[0mcache\u001b[0m\u001b[0;34m[\u001b[0m\u001b[0mc\u001b[0m\u001b[0;34m,\u001b[0m \u001b[0malpha\u001b[0m\u001b[0;34m]\u001b[0m\u001b[0;34m\u001b[0m\u001b[0;34m\u001b[0m\u001b[0m\n\u001b[0m\u001b[1;32m    175\u001b[0m     \u001b[0;32mexcept\u001b[0m \u001b[0;34m(\u001b[0m\u001b[0mKeyError\u001b[0m\u001b[0;34m,\u001b[0m \u001b[0mTypeError\u001b[0m\u001b[0;34m)\u001b[0m\u001b[0;34m:\u001b[0m  \u001b[0;31m# Not in cache, or unhashable.\u001b[0m\u001b[0;34m\u001b[0m\u001b[0;34m\u001b[0m\u001b[0m\n",
      "\u001b[0;31mKeyError\u001b[0m: (0.0, 0.5)",
      "\nDuring handling of the above exception, another exception occurred:\n",
      "\u001b[0;31mValueError\u001b[0m                                Traceback (most recent call last)",
      "\u001b[0;32m<ipython-input-208-47da5abcec33>\u001b[0m in \u001b[0;36m<module>\u001b[0;34m\u001b[0m\n\u001b[1;32m      1\u001b[0m \u001b[0mmpl\u001b[0m\u001b[0;34m.\u001b[0m\u001b[0mcolors\u001b[0m\u001b[0;34m.\u001b[0m\u001b[0mto_rgba\u001b[0m\u001b[0;34m(\u001b[0m\u001b[0;34m\"r\"\u001b[0m\u001b[0;34m,\u001b[0m \u001b[0malpha\u001b[0m\u001b[0;34m=\u001b[0m\u001b[0;36m1\u001b[0m\u001b[0;34m)\u001b[0m\u001b[0;34m\u001b[0m\u001b[0;34m\u001b[0m\u001b[0m\n\u001b[0;32m----> 2\u001b[0;31m \u001b[0mgrb050525A\u001b[0m\u001b[0;34m[\u001b[0m\u001b[0;34m\"rgbcolor\"\u001b[0m\u001b[0;34m]\u001b[0m \u001b[0;34m=\u001b[0m \u001b[0mgrb050525A\u001b[0m\u001b[0;34m[\u001b[0m\u001b[0;34m\"color\"\u001b[0m\u001b[0;34m]\u001b[0m\u001b[0;34m.\u001b[0m\u001b[0mmap\u001b[0m\u001b[0;34m(\u001b[0m\u001b[0;32mlambda\u001b[0m \u001b[0mx\u001b[0m\u001b[0;34m:\u001b[0m \u001b[0mmpl\u001b[0m\u001b[0;34m.\u001b[0m\u001b[0mcolors\u001b[0m\u001b[0;34m.\u001b[0m\u001b[0mto_rgba\u001b[0m\u001b[0;34m(\u001b[0m\u001b[0mx\u001b[0m\u001b[0;34m,\u001b[0m \u001b[0;36m0.5\u001b[0m\u001b[0;34m)\u001b[0m\u001b[0;34m)\u001b[0m\u001b[0;34m\u001b[0m\u001b[0;34m\u001b[0m\u001b[0m\n\u001b[0m",
      "\u001b[0;32m~/anaconda3/lib/python3.7/site-packages/pandas/core/series.py\u001b[0m in \u001b[0;36mmap\u001b[0;34m(self, arg, na_action)\u001b[0m\n\u001b[1;32m   3380\u001b[0m         \"\"\"\n\u001b[1;32m   3381\u001b[0m         new_values = super(Series, self)._map_values(\n\u001b[0;32m-> 3382\u001b[0;31m             arg, na_action=na_action)\n\u001b[0m\u001b[1;32m   3383\u001b[0m         return self._constructor(new_values,\n\u001b[1;32m   3384\u001b[0m                                  index=self.index).__finalize__(self)\n",
      "\u001b[0;32m~/anaconda3/lib/python3.7/site-packages/pandas/core/base.py\u001b[0m in \u001b[0;36m_map_values\u001b[0;34m(self, mapper, na_action)\u001b[0m\n\u001b[1;32m   1216\u001b[0m \u001b[0;34m\u001b[0m\u001b[0m\n\u001b[1;32m   1217\u001b[0m         \u001b[0;31m# mapper is a function\u001b[0m\u001b[0;34m\u001b[0m\u001b[0;34m\u001b[0m\u001b[0;34m\u001b[0m\u001b[0m\n\u001b[0;32m-> 1218\u001b[0;31m         \u001b[0mnew_values\u001b[0m \u001b[0;34m=\u001b[0m \u001b[0mmap_f\u001b[0m\u001b[0;34m(\u001b[0m\u001b[0mvalues\u001b[0m\u001b[0;34m,\u001b[0m \u001b[0mmapper\u001b[0m\u001b[0;34m)\u001b[0m\u001b[0;34m\u001b[0m\u001b[0;34m\u001b[0m\u001b[0m\n\u001b[0m\u001b[1;32m   1219\u001b[0m \u001b[0;34m\u001b[0m\u001b[0m\n\u001b[1;32m   1220\u001b[0m         \u001b[0;32mreturn\u001b[0m \u001b[0mnew_values\u001b[0m\u001b[0;34m\u001b[0m\u001b[0;34m\u001b[0m\u001b[0m\n",
      "\u001b[0;32mpandas/_libs/lib.pyx\u001b[0m in \u001b[0;36mpandas._libs.lib.map_infer\u001b[0;34m()\u001b[0m\n",
      "\u001b[0;32m<ipython-input-208-47da5abcec33>\u001b[0m in \u001b[0;36m<lambda>\u001b[0;34m(x)\u001b[0m\n\u001b[1;32m      1\u001b[0m \u001b[0mmpl\u001b[0m\u001b[0;34m.\u001b[0m\u001b[0mcolors\u001b[0m\u001b[0;34m.\u001b[0m\u001b[0mto_rgba\u001b[0m\u001b[0;34m(\u001b[0m\u001b[0;34m\"r\"\u001b[0m\u001b[0;34m,\u001b[0m \u001b[0malpha\u001b[0m\u001b[0;34m=\u001b[0m\u001b[0;36m1\u001b[0m\u001b[0;34m)\u001b[0m\u001b[0;34m\u001b[0m\u001b[0;34m\u001b[0m\u001b[0m\n\u001b[0;32m----> 2\u001b[0;31m \u001b[0mgrb050525A\u001b[0m\u001b[0;34m[\u001b[0m\u001b[0;34m\"rgbcolor\"\u001b[0m\u001b[0;34m]\u001b[0m \u001b[0;34m=\u001b[0m \u001b[0mgrb050525A\u001b[0m\u001b[0;34m[\u001b[0m\u001b[0;34m\"color\"\u001b[0m\u001b[0;34m]\u001b[0m\u001b[0;34m.\u001b[0m\u001b[0mmap\u001b[0m\u001b[0;34m(\u001b[0m\u001b[0;32mlambda\u001b[0m \u001b[0mx\u001b[0m\u001b[0;34m:\u001b[0m \u001b[0mmpl\u001b[0m\u001b[0;34m.\u001b[0m\u001b[0mcolors\u001b[0m\u001b[0;34m.\u001b[0m\u001b[0mto_rgba\u001b[0m\u001b[0;34m(\u001b[0m\u001b[0mx\u001b[0m\u001b[0;34m,\u001b[0m \u001b[0;36m0.5\u001b[0m\u001b[0;34m)\u001b[0m\u001b[0;34m)\u001b[0m\u001b[0;34m\u001b[0m\u001b[0;34m\u001b[0m\u001b[0m\n\u001b[0m",
      "\u001b[0;32m~/anaconda3/lib/python3.7/site-packages/matplotlib/colors.py\u001b[0m in \u001b[0;36mto_rgba\u001b[0;34m(c, alpha)\u001b[0m\n\u001b[1;32m    174\u001b[0m         \u001b[0mrgba\u001b[0m \u001b[0;34m=\u001b[0m \u001b[0m_colors_full_map\u001b[0m\u001b[0;34m.\u001b[0m\u001b[0mcache\u001b[0m\u001b[0;34m[\u001b[0m\u001b[0mc\u001b[0m\u001b[0;34m,\u001b[0m \u001b[0malpha\u001b[0m\u001b[0;34m]\u001b[0m\u001b[0;34m\u001b[0m\u001b[0;34m\u001b[0m\u001b[0m\n\u001b[1;32m    175\u001b[0m     \u001b[0;32mexcept\u001b[0m \u001b[0;34m(\u001b[0m\u001b[0mKeyError\u001b[0m\u001b[0;34m,\u001b[0m \u001b[0mTypeError\u001b[0m\u001b[0;34m)\u001b[0m\u001b[0;34m:\u001b[0m  \u001b[0;31m# Not in cache, or unhashable.\u001b[0m\u001b[0;34m\u001b[0m\u001b[0;34m\u001b[0m\u001b[0m\n\u001b[0;32m--> 176\u001b[0;31m         \u001b[0mrgba\u001b[0m \u001b[0;34m=\u001b[0m \u001b[0m_to_rgba_no_colorcycle\u001b[0m\u001b[0;34m(\u001b[0m\u001b[0mc\u001b[0m\u001b[0;34m,\u001b[0m \u001b[0malpha\u001b[0m\u001b[0;34m)\u001b[0m\u001b[0;34m\u001b[0m\u001b[0;34m\u001b[0m\u001b[0m\n\u001b[0m\u001b[1;32m    177\u001b[0m         \u001b[0;32mtry\u001b[0m\u001b[0;34m:\u001b[0m\u001b[0;34m\u001b[0m\u001b[0;34m\u001b[0m\u001b[0m\n\u001b[1;32m    178\u001b[0m             \u001b[0m_colors_full_map\u001b[0m\u001b[0;34m.\u001b[0m\u001b[0mcache\u001b[0m\u001b[0;34m[\u001b[0m\u001b[0mc\u001b[0m\u001b[0;34m,\u001b[0m \u001b[0malpha\u001b[0m\u001b[0;34m]\u001b[0m \u001b[0;34m=\u001b[0m \u001b[0mrgba\u001b[0m\u001b[0;34m\u001b[0m\u001b[0;34m\u001b[0m\u001b[0m\n",
      "\u001b[0;32m~/anaconda3/lib/python3.7/site-packages/matplotlib/colors.py\u001b[0m in \u001b[0;36m_to_rgba_no_colorcycle\u001b[0;34m(c, alpha)\u001b[0m\n\u001b[1;32m    225\u001b[0m         \u001b[0;31m# float)` and `np.array(...).astype(float)` all convert \"0.5\" to 0.5.\u001b[0m\u001b[0;34m\u001b[0m\u001b[0;34m\u001b[0m\u001b[0;34m\u001b[0m\u001b[0m\n\u001b[1;32m    226\u001b[0m         \u001b[0;31m# Test dimensionality to reject single floats.\u001b[0m\u001b[0;34m\u001b[0m\u001b[0;34m\u001b[0m\u001b[0;34m\u001b[0m\u001b[0m\n\u001b[0;32m--> 227\u001b[0;31m         \u001b[0;32mraise\u001b[0m \u001b[0mValueError\u001b[0m\u001b[0;34m(\u001b[0m\u001b[0;34m\"Invalid RGBA argument: {!r}\"\u001b[0m\u001b[0;34m.\u001b[0m\u001b[0mformat\u001b[0m\u001b[0;34m(\u001b[0m\u001b[0morig_c\u001b[0m\u001b[0;34m)\u001b[0m\u001b[0;34m)\u001b[0m\u001b[0;34m\u001b[0m\u001b[0;34m\u001b[0m\u001b[0m\n\u001b[0m\u001b[1;32m    228\u001b[0m     \u001b[0;31m# Return a tuple to prevent the cached value from being modified.\u001b[0m\u001b[0;34m\u001b[0m\u001b[0;34m\u001b[0m\u001b[0;34m\u001b[0m\u001b[0m\n\u001b[1;32m    229\u001b[0m     \u001b[0mc\u001b[0m \u001b[0;34m=\u001b[0m \u001b[0mtuple\u001b[0m\u001b[0;34m(\u001b[0m\u001b[0mc\u001b[0m\u001b[0;34m.\u001b[0m\u001b[0mastype\u001b[0m\u001b[0;34m(\u001b[0m\u001b[0mfloat\u001b[0m\u001b[0;34m)\u001b[0m\u001b[0;34m)\u001b[0m\u001b[0;34m\u001b[0m\u001b[0;34m\u001b[0m\u001b[0m\n",
      "\u001b[0;31mValueError\u001b[0m: Invalid RGBA argument: 0.0"
     ]
    }
   ],
   "source": [
    "mpl.colors.to_rgba(\"r\", alpha=1)\n",
    "grb050525A[\"rgbcolor\"] = grb050525A[\"color\"].map(lambda x: mpl.colors.to_rgba(x, 0.5))\n"
   ]
  },
  {
   "cell_type": "code",
   "execution_count": 209,
   "metadata": {
    "ExecuteTime": {
     "end_time": "2020-02-10T12:00:33.839032Z",
     "start_time": "2020-02-10T12:00:33.768509Z"
    }
   },
   "outputs": [],
   "source": [
    "grb050525A[\"flux\"] = pd.to_numeric(grb050525A[\"flux\"], errors=\"coerce\")\n",
    "grb050525A[\"mag\"] = pd.to_numeric(grb050525A[\"mag\"], errors=\"coerce\")\n",
    "grb050525A[\"newmag\"] = grb050525A[\"mag\"]\n",
    "grb050525A[\"uplimmag\"] = np.nan * len(grb050525A)\n",
    "grb050525A.loc[grb050525A[grb050525A.mag.isna()].index, \"uplimmag\"] = \\\n",
    "    grb050525A[grb050525A.mag.isna()].magerr\n",
    "grb050525A[\"color\"] = grb050525A[\"filter\"].map({\"V\":\"r\", \"B\":\"m\", \"U\":\"c\", \"W1\":\"purple\", \n",
    "                                                \"M2\":\"b\", \"W2\":\"k\"})\n",
    "grb050525A[\"rgbcolor\"] = grb050525A[\"color\"].apply(lambda x: mpl.colors.to_rgba(x, 0.5))\n",
    "grb050525A[\"logtime\"] = np.log10(grb050525A[\"time\"])\n",
    "grb050525A[\"logflux\"] = np.log10(grb050525A[\"flux\"])\n",
    "\n",
    "for c in grb050525A[\"filter\"].unique():\n",
    "    if c == \"V\": continue\n",
    "    t0 = grb050525A[grb050525A[\"filter\"] == c].logtime.values[0] \n",
    "    m0 = grb050525A[grb050525A[\"filter\"] == c].mag.values[0]\n",
    "    later = grb050525A[grb050525A[\"filter\"] == \"V\"][\n",
    "        grb050525A[grb050525A[\"filter\"] == \"V\"].logtime > t0]\n",
    "    earlier = grb050525A[grb050525A[\"filter\"] == \"V\"][\n",
    "        grb050525A[grb050525A[\"filter\"] == \"V\"].logtime < t0]\n",
    "    #print (t0, \"\\n\", later, earlier)\n",
    "    mdiff = linint(t0, m0, earlier, later)\n",
    "    ind = grb050525A[grb050525A[\"filter\"] == c].index\n",
    "    grb050525A.loc[ind, \"newmag\"] += mdiff \n",
    "    grb050525A.loc[ind, \"uplimmag\"] -= mdiff \n",
    "\n",
    "#for f in grb050525A[\"mag\"].values"
   ]
  },
  {
   "cell_type": "code",
   "execution_count": null,
   "metadata": {},
   "outputs": [],
   "source": []
  },
  {
   "cell_type": "code",
   "execution_count": 220,
   "metadata": {
    "ExecuteTime": {
     "end_time": "2020-02-10T12:05:42.709505Z",
     "start_time": "2020-02-10T12:05:42.516196Z"
    }
   },
   "outputs": [
    {
     "data": {
      "text/plain": [
       "Text(0.5, 0, 'log time')"
      ]
     },
     "execution_count": 220,
     "metadata": {},
     "output_type": "execute_result"
    },
    {
     "data": {
      "image/png": "[encoded data removed]",
      "text/plain": [
       "<Figure size 720x720 with 1 Axes>"
      ]
     },
     "metadata": {
      "needs_background": "light"
     },
     "output_type": "display_data"
    }
   ],
   "source": [
    "pl.figure(figsize=(10,10))\n",
    "ind = grb050525A.magerr > 0#(grb050525A[\"filter\"] == \"V\")+ (grb050525A[\"filter\"]  == \"B\") + \\\n",
    "      #     (grb050525A[\"filter\"]  == \"U\")\n",
    "pl.errorbar(grb050525A[\"logtime\"], grb050525A[\"newmag\"], \n",
    "            ms=1, alpha=1,\n",
    "                         yerr=grb050525A[\"magerr\"], fmt='.',\n",
    "                        ecolor=grb050525A[\"color\"])\n",
    "nuplim = grb050525A.mag.isna().sum()\n",
    "for i in grb050525A[grb050525A.mag.isna()].index:\n",
    "    pl.arrow(grb050525A.loc[i].logtime, \n",
    "         grb050525A.loc[i].uplimmag, 0, 1, fc=grb050525A.loc[i].color,\n",
    "            head_width=0.05, head_length=0.1, ec=grb050525A.loc[i].color)\n",
    "pl.ylim(23,10)\n",
    "pl.ylabel(\"magnitude\")\n",
    "pl.xlabel(\"log time\")"
   ]
  },
  {
   "cell_type": "code",
   "execution_count": 135,
   "metadata": {
    "ExecuteTime": {
     "end_time": "2020-02-10T11:26:51.271224Z",
     "start_time": "2020-02-10T11:26:51.244979Z"
    }
   },
   "outputs": [
    {
     "data": {
      "text/html": [
       "<div>\n",
       "<style scoped>\n",
       "    .dataframe tbody tr th:only-of-type {\n",
       "        vertical-align: middle;\n",
       "    }\n",
       "\n",
       "    .dataframe tbody tr th {\n",
       "        vertical-align: top;\n",
       "    }\n",
       "\n",
       "    .dataframe thead th {\n",
       "        text-align: right;\n",
       "    }\n",
       "</style>\n",
       "<table border=\"1\" class=\"dataframe\">\n",
       "  <thead>\n",
       "    <tr style=\"text-align: right;\">\n",
       "      <th></th>\n",
       "      <th>filter</th>\n",
       "      <th>time</th>\n",
       "      <th>exposure</th>\n",
       "      <th>mag</th>\n",
       "      <th>magerr</th>\n",
       "      <th>flux</th>\n",
       "      <th>fluxerr</th>\n",
       "      <th>None</th>\n",
       "      <th>color</th>\n",
       "      <th>logtime</th>\n",
       "      <th>logflux</th>\n",
       "      <th>newmag</th>\n",
       "    </tr>\n",
       "  </thead>\n",
       "  <tbody>\n",
       "    <tr>\n",
       "      <th>41</th>\n",
       "      <td>V</td>\n",
       "      <td>49320</td>\n",
       "      <td>4982.0</td>\n",
       "      <td>NaN</td>\n",
       "      <td>20.62</td>\n",
       "      <td>NaN</td>\n",
       "      <td>0.2</td>\n",
       "      <td>NaN</td>\n",
       "      <td>r</td>\n",
       "      <td>4.693023</td>\n",
       "      <td>NaN</td>\n",
       "      <td>NaN</td>\n",
       "    </tr>\n",
       "    <tr>\n",
       "      <th>42</th>\n",
       "      <td>V</td>\n",
       "      <td>971360</td>\n",
       "      <td>33800.0</td>\n",
       "      <td>NaN</td>\n",
       "      <td>22.09</td>\n",
       "      <td>NaN</td>\n",
       "      <td>0.1</td>\n",
       "      <td>NaN</td>\n",
       "      <td>r</td>\n",
       "      <td>5.987380</td>\n",
       "      <td>NaN</td>\n",
       "      <td>NaN</td>\n",
       "    </tr>\n",
       "    <tr>\n",
       "      <th>43</th>\n",
       "      <td>V</td>\n",
       "      <td>1171176</td>\n",
       "      <td>6081.0</td>\n",
       "      <td>NaN</td>\n",
       "      <td>21.16</td>\n",
       "      <td>NaN</td>\n",
       "      <td>0.1</td>\n",
       "      <td>NaN</td>\n",
       "      <td>r</td>\n",
       "      <td>6.068622</td>\n",
       "      <td>NaN</td>\n",
       "      <td>NaN</td>\n",
       "    </tr>\n",
       "    <tr>\n",
       "      <th>58</th>\n",
       "      <td>B</td>\n",
       "      <td>45468</td>\n",
       "      <td>896.0</td>\n",
       "      <td>NaN</td>\n",
       "      <td>20.70</td>\n",
       "      <td>NaN</td>\n",
       "      <td>0.3</td>\n",
       "      <td>NaN</td>\n",
       "      <td>m</td>\n",
       "      <td>4.657706</td>\n",
       "      <td>NaN</td>\n",
       "      <td>NaN</td>\n",
       "    </tr>\n",
       "    <tr>\n",
       "      <th>59</th>\n",
       "      <td>B</td>\n",
       "      <td>62549</td>\n",
       "      <td>6513.0</td>\n",
       "      <td>NaN</td>\n",
       "      <td>21.55</td>\n",
       "      <td>NaN</td>\n",
       "      <td>0.1</td>\n",
       "      <td>NaN</td>\n",
       "      <td>m</td>\n",
       "      <td>4.796220</td>\n",
       "      <td>NaN</td>\n",
       "      <td>NaN</td>\n",
       "    </tr>\n",
       "    <tr>\n",
       "      <th>74</th>\n",
       "      <td>U</td>\n",
       "      <td>52994</td>\n",
       "      <td>780.0</td>\n",
       "      <td>NaN</td>\n",
       "      <td>19.68</td>\n",
       "      <td>NaN</td>\n",
       "      <td>0.4</td>\n",
       "      <td>NaN</td>\n",
       "      <td>c</td>\n",
       "      <td>4.724227</td>\n",
       "      <td>NaN</td>\n",
       "      <td>NaN</td>\n",
       "    </tr>\n",
       "    <tr>\n",
       "      <th>75</th>\n",
       "      <td>U</td>\n",
       "      <td>128928</td>\n",
       "      <td>1548.0</td>\n",
       "      <td>NaN</td>\n",
       "      <td>20.05</td>\n",
       "      <td>NaN</td>\n",
       "      <td>0.3</td>\n",
       "      <td>NaN</td>\n",
       "      <td>c</td>\n",
       "      <td>5.110347</td>\n",
       "      <td>NaN</td>\n",
       "      <td>NaN</td>\n",
       "    </tr>\n",
       "    <tr>\n",
       "      <th>89</th>\n",
       "      <td>W1</td>\n",
       "      <td>52100</td>\n",
       "      <td>898.0</td>\n",
       "      <td>NaN</td>\n",
       "      <td>21.05</td>\n",
       "      <td>NaN</td>\n",
       "      <td>0.3</td>\n",
       "      <td>NaN</td>\n",
       "      <td>purple</td>\n",
       "      <td>4.716838</td>\n",
       "      <td>NaN</td>\n",
       "      <td>NaN</td>\n",
       "    </tr>\n",
       "    <tr>\n",
       "      <th>90</th>\n",
       "      <td>W1</td>\n",
       "      <td>63738</td>\n",
       "      <td>900.0</td>\n",
       "      <td>NaN</td>\n",
       "      <td>21.20</td>\n",
       "      <td>NaN</td>\n",
       "      <td>0.3</td>\n",
       "      <td>NaN</td>\n",
       "      <td>purple</td>\n",
       "      <td>4.804398</td>\n",
       "      <td>NaN</td>\n",
       "      <td>NaN</td>\n",
       "    </tr>\n",
       "    <tr>\n",
       "      <th>105</th>\n",
       "      <td>M2</td>\n",
       "      <td>74798</td>\n",
       "      <td>931.0</td>\n",
       "      <td>NaN</td>\n",
       "      <td>21.59</td>\n",
       "      <td>NaN</td>\n",
       "      <td>0.6</td>\n",
       "      <td>NaN</td>\n",
       "      <td>b</td>\n",
       "      <td>4.873890</td>\n",
       "      <td>NaN</td>\n",
       "      <td>NaN</td>\n",
       "    </tr>\n",
       "    <tr>\n",
       "      <th>118</th>\n",
       "      <td>W2</td>\n",
       "      <td>52162</td>\n",
       "      <td>1800.0</td>\n",
       "      <td>NaN</td>\n",
       "      <td>21.76</td>\n",
       "      <td>NaN</td>\n",
       "      <td>0.3</td>\n",
       "      <td>NaN</td>\n",
       "      <td>k</td>\n",
       "      <td>4.717354</td>\n",
       "      <td>NaN</td>\n",
       "      <td>NaN</td>\n",
       "    </tr>\n",
       "  </tbody>\n",
       "</table>\n",
       "</div>"
      ],
      "text/plain": [
       "    filter     time  exposure  mag  magerr  flux  fluxerr  None   color  \\\n",
       "41       V    49320    4982.0  NaN   20.62   NaN      0.2   NaN       r   \n",
       "42       V   971360   33800.0  NaN   22.09   NaN      0.1   NaN       r   \n",
       "43       V  1171176    6081.0  NaN   21.16   NaN      0.1   NaN       r   \n",
       "58       B    45468     896.0  NaN   20.70   NaN      0.3   NaN       m   \n",
       "59       B    62549    6513.0  NaN   21.55   NaN      0.1   NaN       m   \n",
       "74       U    52994     780.0  NaN   19.68   NaN      0.4   NaN       c   \n",
       "75       U   128928    1548.0  NaN   20.05   NaN      0.3   NaN       c   \n",
       "89      W1    52100     898.0  NaN   21.05   NaN      0.3   NaN  purple   \n",
       "90      W1    63738     900.0  NaN   21.20   NaN      0.3   NaN  purple   \n",
       "105     M2    74798     931.0  NaN   21.59   NaN      0.6   NaN       b   \n",
       "118     W2    52162    1800.0  NaN   21.76   NaN      0.3   NaN       k   \n",
       "\n",
       "      logtime  logflux  newmag  \n",
       "41   4.693023      NaN     NaN  \n",
       "42   5.987380      NaN     NaN  \n",
       "43   6.068622      NaN     NaN  \n",
       "58   4.657706      NaN     NaN  \n",
       "59   4.796220      NaN     NaN  \n",
       "74   4.724227      NaN     NaN  \n",
       "75   5.110347      NaN     NaN  \n",
       "89   4.716838      NaN     NaN  \n",
       "90   4.804398      NaN     NaN  \n",
       "105  4.873890      NaN     NaN  \n",
       "118  4.717354      NaN     NaN  "
      ]
     },
     "execution_count": 135,
     "metadata": {},
     "output_type": "execute_result"
    }
   ],
   "source": [
    "grb050525A[grb050525A.mag.isna()]\n"
   ]
  },
  {
   "cell_type": "code",
   "execution_count": null,
   "metadata": {},
   "outputs": [],
   "source": []
  }
 ],
 "metadata": {
  "kernelspec": {
   "display_name": "Python 3",
   "language": "python",
   "name": "python3"
  },
  "language_info": {
   "codemirror_mode": {
    "name": "ipython",
    "version": 3
   },
   "file_extension": ".py",
   "mimetype": "text/x-python",
   "name": "python",
   "nbconvert_exporter": "python",
   "pygments_lexer": "ipython3",
   "version": "3.7.3"
  },
  "latex_envs": {
   "LaTeX_envs_menu_present": true,
   "autoclose": false,
   "autocomplete": true,
   "bibliofile": "biblio.bib",
   "cite_by": "apalike",
   "current_citInitial": 1,
   "eqLabelWithNumbers": true,
   "eqNumInitial": 1,
   "hotkeys": {
    "equation": "Ctrl-E",
    "itemize": "Ctrl-I"
   },
   "labels_anchors": false,
   "latex_user_defs": false,
   "report_style_numbering": false,
   "user_envs_cfg": false
  },
  "nbTranslate": {
   "displayLangs": [
    "*"
   ],
   "hotkey": "alt-t",
   "langInMainMenu": true,
   "sourceLang": "en",
   "targetLang": "fr",
   "useGoogleTranslate": true
  },
  "toc": {
   "base_numbering": 1,
   "nav_menu": {},
   "number_sections": true,
   "sideBar": true,
   "skip_h1_title": false,
   "title_cell": "Table of Contents",
   "title_sidebar": "Contents",
   "toc_cell": false,
   "toc_position": {},
   "toc_section_display": true,
   "toc_window_display": false
  }
 },
 "nbformat": 4,
 "nbformat_minor": 2
}
