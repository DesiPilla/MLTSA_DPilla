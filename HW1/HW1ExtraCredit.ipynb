{
  "nbformat": 4,
  "nbformat_minor": 0,
  "metadata": {
    "colab": {
      "name": "HW1ExtraCredit.ipynb",
      "provenance": [],
      "collapsed_sections": [],
      "include_colab_link": true
    },
    "kernelspec": {
      "name": "python3",
      "display_name": "Python 3"
    }
  },
  "cells": [
    {
      "cell_type": "markdown",
      "metadata": {
        "id": "view-in-github",
        "colab_type": "text"
      },
      "source": [
        "<a href=\"https://colab.research.google.com/github/DesiPilla/MLTSA_DPilla/blob/master/HW1/HW1ExtraCredit.ipynb\" target=\"_parent\"><img src=\"https://colab.research.google.com/assets/colab-badge.svg\" alt=\"Open In Colab\"/></a>"
      ]
    },
    {
      "cell_type": "markdown",
      "metadata": {
        "id": "z0R0TGbtWEPn",
        "colab_type": "text"
      },
      "source": [
        "MLTSA UDel PHYS667 Sprint 2020"
      ]
    },
    {
      "cell_type": "markdown",
      "metadata": {
        "id": "k8oMoAaaWKIs",
        "colab_type": "text"
      },
      "source": [
        "HW1 Extra Credit :"
      ]
    },
    {
      "cell_type": "markdown",
      "metadata": {
        "id": "rVdc0fnvWNEZ",
        "colab_type": "text"
      },
      "source": [
        "Solve Exercise 1, 2, 3 from https://arxiv.org/pdf/1008.4686.pdf"
      ]
    },
    {
      "cell_type": "code",
      "metadata": {
        "id": "TPJXB1eLjfdZ",
        "colab_type": "code",
        "colab": {}
      },
      "source": [
        "import numpy as np\n",
        "import pandas as pd\n",
        "import matplotlib.pyplot as plt"
      ],
      "execution_count": 0,
      "outputs": []
    },
    {
      "cell_type": "code",
      "metadata": {
        "id": "zUDPZVoejkJR",
        "colab_type": "code",
        "outputId": "d36aff57-3f92-4618-f208-ef7f4601c5c8",
        "colab": {
          "base_uri": "https://localhost:8080/",
          "height": 669
        }
      },
      "source": [
        "data = [[201, 592, 61, 9, -0.84],\n",
        "        [244, 401, 25, 4, 0.31],\n",
        "        [47, 583, 38, 11, 0.64],\n",
        "        [287, 402, 15, 7, -0.27],\n",
        "        [203, 495, 21, 5, -0.33],\n",
        "        [58, 173, 15, 9, 0.67],\n",
        "        [210, 479, 27, 4, -0.02],\n",
        "        [202, 504, 14, 4, -0.05],\n",
        "        [198, 510, 30, 11, -0.84],\n",
        "        [158, 416, 16, 7, -0.69],\n",
        "        [165, 393, 14, 5, 0.30],\n",
        "        [201, 442, 25, 5, -0.46],\n",
        "        [157, 317, 52, 5, -0.03],\n",
        "        [131, 311, 16, 6, 0.50],\n",
        "        [166, 400, 34, 6, 0.73],\n",
        "        [160, 337, 31, 5, -0.52],\n",
        "        [186, 423, 42, 9, 0.90],\n",
        "        [125, 334, 26, 8, 0.40],\n",
        "        [218, 533, 16, 6, -0.78],\n",
        "        [146, 344, 22, 5, -0.56]]\n",
        "\n",
        "data = pd.DataFrame(data, columns = [\"x\", \"y\", \"sy\", \"sx\", \"rho\"])\n",
        "data.index += 1\n",
        "data"
      ],
      "execution_count": 32,
      "outputs": [
        {
          "output_type": "execute_result",
          "data": {
            "text/html": [
              "<div>\n",
              "<style scoped>\n",
              "    .dataframe tbody tr th:only-of-type {\n",
              "        vertical-align: middle;\n",
              "    }\n",
              "\n",
              "    .dataframe tbody tr th {\n",
              "        vertical-align: top;\n",
              "    }\n",
              "\n",
              "    .dataframe thead th {\n",
              "        text-align: right;\n",
              "    }\n",
              "</style>\n",
              "<table border=\"1\" class=\"dataframe\">\n",
              "  <thead>\n",
              "    <tr style=\"text-align: right;\">\n",
              "      <th></th>\n",
              "      <th>x</th>\n",
              "      <th>y</th>\n",
              "      <th>sy</th>\n",
              "      <th>sx</th>\n",
              "      <th>rho</th>\n",
              "    </tr>\n",
              "  </thead>\n",
              "  <tbody>\n",
              "    <tr>\n",
              "      <th>1</th>\n",
              "      <td>201</td>\n",
              "      <td>592</td>\n",
              "      <td>61</td>\n",
              "      <td>9</td>\n",
              "      <td>-0.84</td>\n",
              "    </tr>\n",
              "    <tr>\n",
              "      <th>2</th>\n",
              "      <td>244</td>\n",
              "      <td>401</td>\n",
              "      <td>25</td>\n",
              "      <td>4</td>\n",
              "      <td>0.31</td>\n",
              "    </tr>\n",
              "    <tr>\n",
              "      <th>3</th>\n",
              "      <td>47</td>\n",
              "      <td>583</td>\n",
              "      <td>38</td>\n",
              "      <td>11</td>\n",
              "      <td>0.64</td>\n",
              "    </tr>\n",
              "    <tr>\n",
              "      <th>4</th>\n",
              "      <td>287</td>\n",
              "      <td>402</td>\n",
              "      <td>15</td>\n",
              "      <td>7</td>\n",
              "      <td>-0.27</td>\n",
              "    </tr>\n",
              "    <tr>\n",
              "      <th>5</th>\n",
              "      <td>203</td>\n",
              "      <td>495</td>\n",
              "      <td>21</td>\n",
              "      <td>5</td>\n",
              "      <td>-0.33</td>\n",
              "    </tr>\n",
              "    <tr>\n",
              "      <th>6</th>\n",
              "      <td>58</td>\n",
              "      <td>173</td>\n",
              "      <td>15</td>\n",
              "      <td>9</td>\n",
              "      <td>0.67</td>\n",
              "    </tr>\n",
              "    <tr>\n",
              "      <th>7</th>\n",
              "      <td>210</td>\n",
              "      <td>479</td>\n",
              "      <td>27</td>\n",
              "      <td>4</td>\n",
              "      <td>-0.02</td>\n",
              "    </tr>\n",
              "    <tr>\n",
              "      <th>8</th>\n",
              "      <td>202</td>\n",
              "      <td>504</td>\n",
              "      <td>14</td>\n",
              "      <td>4</td>\n",
              "      <td>-0.05</td>\n",
              "    </tr>\n",
              "    <tr>\n",
              "      <th>9</th>\n",
              "      <td>198</td>\n",
              "      <td>510</td>\n",
              "      <td>30</td>\n",
              "      <td>11</td>\n",
              "      <td>-0.84</td>\n",
              "    </tr>\n",
              "    <tr>\n",
              "      <th>10</th>\n",
              "      <td>158</td>\n",
              "      <td>416</td>\n",
              "      <td>16</td>\n",
              "      <td>7</td>\n",
              "      <td>-0.69</td>\n",
              "    </tr>\n",
              "    <tr>\n",
              "      <th>11</th>\n",
              "      <td>165</td>\n",
              "      <td>393</td>\n",
              "      <td>14</td>\n",
              "      <td>5</td>\n",
              "      <td>0.30</td>\n",
              "    </tr>\n",
              "    <tr>\n",
              "      <th>12</th>\n",
              "      <td>201</td>\n",
              "      <td>442</td>\n",
              "      <td>25</td>\n",
              "      <td>5</td>\n",
              "      <td>-0.46</td>\n",
              "    </tr>\n",
              "    <tr>\n",
              "      <th>13</th>\n",
              "      <td>157</td>\n",
              "      <td>317</td>\n",
              "      <td>52</td>\n",
              "      <td>5</td>\n",
              "      <td>-0.03</td>\n",
              "    </tr>\n",
              "    <tr>\n",
              "      <th>14</th>\n",
              "      <td>131</td>\n",
              "      <td>311</td>\n",
              "      <td>16</td>\n",
              "      <td>6</td>\n",
              "      <td>0.50</td>\n",
              "    </tr>\n",
              "    <tr>\n",
              "      <th>15</th>\n",
              "      <td>166</td>\n",
              "      <td>400</td>\n",
              "      <td>34</td>\n",
              "      <td>6</td>\n",
              "      <td>0.73</td>\n",
              "    </tr>\n",
              "    <tr>\n",
              "      <th>16</th>\n",
              "      <td>160</td>\n",
              "      <td>337</td>\n",
              "      <td>31</td>\n",
              "      <td>5</td>\n",
              "      <td>-0.52</td>\n",
              "    </tr>\n",
              "    <tr>\n",
              "      <th>17</th>\n",
              "      <td>186</td>\n",
              "      <td>423</td>\n",
              "      <td>42</td>\n",
              "      <td>9</td>\n",
              "      <td>0.90</td>\n",
              "    </tr>\n",
              "    <tr>\n",
              "      <th>18</th>\n",
              "      <td>125</td>\n",
              "      <td>334</td>\n",
              "      <td>26</td>\n",
              "      <td>8</td>\n",
              "      <td>0.40</td>\n",
              "    </tr>\n",
              "    <tr>\n",
              "      <th>19</th>\n",
              "      <td>218</td>\n",
              "      <td>533</td>\n",
              "      <td>16</td>\n",
              "      <td>6</td>\n",
              "      <td>-0.78</td>\n",
              "    </tr>\n",
              "    <tr>\n",
              "      <th>20</th>\n",
              "      <td>146</td>\n",
              "      <td>344</td>\n",
              "      <td>22</td>\n",
              "      <td>5</td>\n",
              "      <td>-0.56</td>\n",
              "    </tr>\n",
              "  </tbody>\n",
              "</table>\n",
              "</div>"
            ],
            "text/plain": [
              "      x    y  sy  sx   rho\n",
              "1   201  592  61   9 -0.84\n",
              "2   244  401  25   4  0.31\n",
              "3    47  583  38  11  0.64\n",
              "4   287  402  15   7 -0.27\n",
              "5   203  495  21   5 -0.33\n",
              "6    58  173  15   9  0.67\n",
              "7   210  479  27   4 -0.02\n",
              "8   202  504  14   4 -0.05\n",
              "9   198  510  30  11 -0.84\n",
              "10  158  416  16   7 -0.69\n",
              "11  165  393  14   5  0.30\n",
              "12  201  442  25   5 -0.46\n",
              "13  157  317  52   5 -0.03\n",
              "14  131  311  16   6  0.50\n",
              "15  166  400  34   6  0.73\n",
              "16  160  337  31   5 -0.52\n",
              "17  186  423  42   9  0.90\n",
              "18  125  334  26   8  0.40\n",
              "19  218  533  16   6 -0.78\n",
              "20  146  344  22   5 -0.56"
            ]
          },
          "metadata": {
            "tags": []
          },
          "execution_count": 32
        }
      ]
    },
    {
      "cell_type": "markdown",
      "metadata": {
        "id": "px4DyZ5mzNk3",
        "colab_type": "text"
      },
      "source": [
        "# Exercise 1"
      ]
    },
    {
      "cell_type": "code",
      "metadata": {
        "id": "s5snGNYdk72J",
        "colab_type": "code",
        "outputId": "43ff094b-2844-4bf3-98b5-3e082da949f7",
        "colab": {
          "base_uri": "https://localhost:8080/",
          "height": 34
        }
      },
      "source": [
        "x = data.loc[5:,\"x\"].values             # Get X values\n",
        "X = np.c_[np.ones((len(x), 1)), x]      # Add column of 1's\n",
        "sy = data.loc[5:, \"sy\"].values          # Get uncertainty values\n",
        "C = np.identity(len(x)) * sy            # Create uncertainty matrix\n",
        "Cinv = np.linalg.inv(C)                 # Take inverse of C\n",
        "Y = data.loc[5:,\"y\"].values             # Get Y values\n",
        "params = np.linalg.inv(X.T.dot(Cinv).dot(X)).dot(X.T).dot(Cinv).dot(Y)      # Solve normal equations\n",
        "\n",
        "print (\"best fit parameters from the Normal Equation: \" + \n",
        "       \"intercept {:.2f}, slope {:.2f}\".format(*params))"
      ],
      "execution_count": 33,
      "outputs": [
        {
          "output_type": "stream",
          "text": [
            "best fit parameters from the Normal Equation: intercept 33.45, slope 2.22\n"
          ],
          "name": "stdout"
        }
      ]
    },
    {
      "cell_type": "code",
      "metadata": {
        "id": "YmWLdy-upBnF",
        "colab_type": "code",
        "colab": {}
      },
      "source": [
        "def line(x, params):\n",
        "    return params[1] * x + params[0]"
      ],
      "execution_count": 0,
      "outputs": []
    },
    {
      "cell_type": "code",
      "metadata": {
        "id": "g0dprf4OleaS",
        "colab_type": "code",
        "outputId": "8b9e907f-6610-4bce-8915-f7f224d6803b",
        "colab": {
          "base_uri": "https://localhost:8080/",
          "height": 320
        }
      },
      "source": [
        "plt.figure(figsize = (5, 5));\n",
        "plt.errorbar(x, Y, sy, 0, fmt = 'o');\n",
        "plt.plot(range(300), line(range(300), params), '--');\n",
        "plt.xlim(0, 300);"
      ],
      "execution_count": 35,
      "outputs": [
        {
          "output_type": "display_data",
          "data": {
            "image/png": "[encoded data removed]",
            "text/plain": [
              "<Figure size 360x360 with 1 Axes>"
            ]
          },
          "metadata": {
            "tags": []
          }
        }
      ]
    },
    {
      "cell_type": "markdown",
      "metadata": {
        "id": "J0907xQ8ppgM",
        "colab_type": "text"
      },
      "source": [
        "**Figure 1:** This plot shows data points 5 through 20 (and their uncertainties) as well as a linear regression fit through the points."
      ]
    },
    {
      "cell_type": "code",
      "metadata": {
        "id": "01JThUWo0L3A",
        "colab_type": "code",
        "outputId": "31a874fc-401b-4327-fdd4-8097148f9d4c",
        "colab": {
          "base_uri": "https://localhost:8080/",
          "height": 34
        }
      },
      "source": [
        "suv = ((x - x.mean())**2).sum() / np.var(Y)\n",
        "print(\"The standard uncertainty variance on the slope of the\" + \\\n",
        "      \" line is {0:.2f}\".format(suv))"
      ],
      "execution_count": 36,
      "outputs": [
        {
          "output_type": "stream",
          "text": [
            "The standard uncertainty variance on the slope of the line is 2.94\n"
          ],
          "name": "stdout"
        }
      ]
    },
    {
      "cell_type": "markdown",
      "metadata": {
        "id": "sOYrjITWzP5h",
        "colab_type": "text"
      },
      "source": [
        "# Exercise 2"
      ]
    },
    {
      "cell_type": "code",
      "metadata": {
        "id": "01LKdqwFneIp",
        "colab_type": "code",
        "outputId": "f15ceda8-eeb2-48b1-bfd4-64d24e97dd4c",
        "colab": {
          "base_uri": "https://localhost:8080/",
          "height": 34
        }
      },
      "source": [
        "x = data.loc[:,\"x\"].values             # Get X values\n",
        "X = np.c_[np.ones((len(x), 1)), x]      # Add column of 1's\n",
        "sy = data.loc[:, \"sy\"].values          # Get uncertainty values\n",
        "C = np.identity(len(x)) * sy            # Create uncertainty matrix\n",
        "Cinv = np.linalg.inv(C)                 # Take inverse of C\n",
        "Y = data.loc[:,\"y\"].values             # Get Y values\n",
        "params = np.linalg.inv(X.T.dot(Cinv).dot(X)).dot(X.T).dot(Cinv).dot(Y)      # Solve normal equations\n",
        "\n",
        "print (\"best fit parameters from the Normal Equation: \" + \n",
        "       \"intercept {:.2f}, slope {:.2f}\".format(*params))"
      ],
      "execution_count": 37,
      "outputs": [
        {
          "output_type": "stream",
          "text": [
            "best fit parameters from the Normal Equation: intercept 252.47, slope 0.90\n"
          ],
          "name": "stdout"
        }
      ]
    },
    {
      "cell_type": "code",
      "metadata": {
        "id": "er9_0AT-zU-9",
        "colab_type": "code",
        "outputId": "64b67fb4-5022-4050-a382-bd4a5eee7c7b",
        "colab": {
          "base_uri": "https://localhost:8080/",
          "height": 320
        }
      },
      "source": [
        "plt.figure(figsize = (5, 5));\n",
        "plt.errorbar(x, Y, sy, 0, fmt = 'o');\n",
        "plt.plot(range(300), line(range(300), params), '--');\n",
        "plt.xlim(0, 300);"
      ],
      "execution_count": 38,
      "outputs": [
        {
          "output_type": "display_data",
          "data": {
            "image/png": "[encoded data removed]",
            "text/plain": [
              "<Figure size 360x360 with 1 Axes>"
            ]
          },
          "metadata": {
            "tags": []
          }
        }
      ]
    },
    {
      "cell_type": "markdown",
      "metadata": {
        "id": "Wtf_D0CZzfF8",
        "colab_type": "text"
      },
      "source": [
        "**Figure 2:** This plot shows all data points (and their uncertainties) as well as a linear regression fit through the points."
      ]
    },
    {
      "cell_type": "code",
      "metadata": {
        "id": "h4uzuKz6zYER",
        "colab_type": "code",
        "outputId": "f9b444a0-dedc-4a9a-9a20-508bda08be3b",
        "colab": {
          "base_uri": "https://localhost:8080/",
          "height": 34
        }
      },
      "source": [
        "suv = ((x - x.mean())**2).sum() / np.var(Y)\n",
        "print(\"The standard uncertainty variance on the slope of the\" + \\\n",
        "      \" line is {0:.2f}\".format(suv))"
      ],
      "execution_count": 39,
      "outputs": [
        {
          "output_type": "stream",
          "text": [
            "The standard uncertainty variance on the slope of the line is 6.05\n"
          ],
          "name": "stdout"
        }
      ]
    },
    {
      "cell_type": "markdown",
      "metadata": {
        "id": "Yji_wt771UAD",
        "colab_type": "text"
      },
      "source": [
        "This result is much higher than in exercise 1. This is due to the fact that the new points lie much farther away from the general trend of the previous points."
      ]
    },
    {
      "cell_type": "markdown",
      "metadata": {
        "id": "JQJBHq-m1sF2",
        "colab_type": "text"
      },
      "source": [
        "# Exercise 3"
      ]
    },
    {
      "cell_type": "code",
      "metadata": {
        "id": "wvysLOyF1ROE",
        "colab_type": "code",
        "colab": {
          "base_uri": "https://localhost:8080/",
          "height": 34
        },
        "outputId": "3597f696-0be1-4349-d87e-0ed2c581125e"
      },
      "source": [
        "x = data.loc[5:,\"x\"].values             # Get X values\n",
        "X = np.c_[np.ones((len(x), 1)), x, x**2]# Add column of 1's\n",
        "sy = data.loc[5:, \"sy\"].values          # Get uncertainty values\n",
        "C = np.identity(len(x)) * sy            # Create uncertainty matrix\n",
        "Cinv = np.linalg.inv(C)                 # Take inverse of C\n",
        "Y = data.loc[5:,\"y\"].values             # Get Y values\n",
        "params = np.linalg.inv(X.T.dot(Cinv).dot(X)).dot(X.T).dot(Cinv).dot(Y)      # Solve normal equations\n",
        "\n",
        "print (\"best fit parameters from the Normal Equation: \" + \n",
        "       \"intercept: {:.2f}, x: {:.2f}, x^2: {:.4f}\".format(*params))"
      ],
      "execution_count": 53,
      "outputs": [
        {
          "output_type": "stream",
          "text": [
            "best fit parameters from the Normal Equation: intercept: 81.93, x: 1.45, x^2: 0.0027\n"
          ],
          "name": "stdout"
        }
      ]
    },
    {
      "cell_type": "code",
      "metadata": {
        "id": "eRN-PzNw2sED",
        "colab_type": "code",
        "colab": {}
      },
      "source": [
        "def quad(x, params):\n",
        "    return params[2] * np.square(x) + params[1] * x + params[0]"
      ],
      "execution_count": 0,
      "outputs": []
    },
    {
      "cell_type": "code",
      "metadata": {
        "id": "LRKmyfaj2anx",
        "colab_type": "code",
        "colab": {
          "base_uri": "https://localhost:8080/",
          "height": 320
        },
        "outputId": "e7706561-feac-410f-95e6-464435bbbe41"
      },
      "source": [
        "plt.figure(figsize = (5, 5));\n",
        "plt.errorbar(x, Y, sy, 0, fmt = 'o');\n",
        "plt.plot(range(300), quad(range(300), params), '--');\n",
        "plt.xlim(0, 300);"
      ],
      "execution_count": 59,
      "outputs": [
        {
          "output_type": "display_data",
          "data": {
            "image/png": "[encoded data removed]",
            "text/plain": [
              "<Figure size 360x360 with 1 Axes>"
            ]
          },
          "metadata": {
            "tags": []
          }
        }
      ]
    },
    {
      "cell_type": "markdown",
      "metadata": {
        "id": "wqjpOepZ3OGT",
        "colab_type": "text"
      },
      "source": [
        "**Figure 3:** This plot shows all data points (and their uncertainties) as well as a regression fit through the points."
      ]
    }
  ]
}